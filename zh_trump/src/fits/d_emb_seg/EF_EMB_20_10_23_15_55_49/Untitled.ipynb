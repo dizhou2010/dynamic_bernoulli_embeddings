{
 "cells": [
  {
   "cell_type": "markdown",
   "metadata": {},
   "source": [
    "### Access D-EMB model parameters and results\n",
    "- ref: https://cv-tricks.com/tensorflow-tutorial/save-restore-tensorflow-models-quick-complete-tutorial/\n",
    "- ref (get tensor names): https://stackoverflow.com/questions/36883949/in-tensorflow-get-the-names-of-all-the-tensors-in-a-graph\n",
    "- ref (diff btw session and graph in tf): https://danijar.com/what-is-a-tensorflow-session/"
   ]
  },
  {
   "cell_type": "code",
   "execution_count": 1,
   "metadata": {},
   "outputs": [
    {
     "name": "stderr",
     "output_type": "stream",
     "text": [
      "/Users/dizhou/anaconda3/envs/zhihu_debug/lib/python3.7/site-packages/tensorflow/python/framework/dtypes.py:516: FutureWarning: Passing (type, 1) or '1type' as a synonym of type is deprecated; in a future version of numpy, it will be understood as (type, (1,)) / '(1,)type'.\n",
      "  _np_qint8 = np.dtype([(\"qint8\", np.int8, 1)])\n",
      "/Users/dizhou/anaconda3/envs/zhihu_debug/lib/python3.7/site-packages/tensorflow/python/framework/dtypes.py:517: FutureWarning: Passing (type, 1) or '1type' as a synonym of type is deprecated; in a future version of numpy, it will be understood as (type, (1,)) / '(1,)type'.\n",
      "  _np_quint8 = np.dtype([(\"quint8\", np.uint8, 1)])\n",
      "/Users/dizhou/anaconda3/envs/zhihu_debug/lib/python3.7/site-packages/tensorflow/python/framework/dtypes.py:518: FutureWarning: Passing (type, 1) or '1type' as a synonym of type is deprecated; in a future version of numpy, it will be understood as (type, (1,)) / '(1,)type'.\n",
      "  _np_qint16 = np.dtype([(\"qint16\", np.int16, 1)])\n",
      "/Users/dizhou/anaconda3/envs/zhihu_debug/lib/python3.7/site-packages/tensorflow/python/framework/dtypes.py:519: FutureWarning: Passing (type, 1) or '1type' as a synonym of type is deprecated; in a future version of numpy, it will be understood as (type, (1,)) / '(1,)type'.\n",
      "  _np_quint16 = np.dtype([(\"quint16\", np.uint16, 1)])\n",
      "/Users/dizhou/anaconda3/envs/zhihu_debug/lib/python3.7/site-packages/tensorflow/python/framework/dtypes.py:520: FutureWarning: Passing (type, 1) or '1type' as a synonym of type is deprecated; in a future version of numpy, it will be understood as (type, (1,)) / '(1,)type'.\n",
      "  _np_qint32 = np.dtype([(\"qint32\", np.int32, 1)])\n",
      "/Users/dizhou/anaconda3/envs/zhihu_debug/lib/python3.7/site-packages/tensorflow/python/framework/dtypes.py:525: FutureWarning: Passing (type, 1) or '1type' as a synonym of type is deprecated; in a future version of numpy, it will be understood as (type, (1,)) / '(1,)type'.\n",
      "  np_resource = np.dtype([(\"resource\", np.ubyte, 1)])\n",
      "/Users/dizhou/anaconda3/envs/zhihu_debug/lib/python3.7/site-packages/tensorboard/compat/tensorflow_stub/dtypes.py:541: FutureWarning: Passing (type, 1) or '1type' as a synonym of type is deprecated; in a future version of numpy, it will be understood as (type, (1,)) / '(1,)type'.\n",
      "  _np_qint8 = np.dtype([(\"qint8\", np.int8, 1)])\n",
      "/Users/dizhou/anaconda3/envs/zhihu_debug/lib/python3.7/site-packages/tensorboard/compat/tensorflow_stub/dtypes.py:542: FutureWarning: Passing (type, 1) or '1type' as a synonym of type is deprecated; in a future version of numpy, it will be understood as (type, (1,)) / '(1,)type'.\n",
      "  _np_quint8 = np.dtype([(\"quint8\", np.uint8, 1)])\n",
      "/Users/dizhou/anaconda3/envs/zhihu_debug/lib/python3.7/site-packages/tensorboard/compat/tensorflow_stub/dtypes.py:543: FutureWarning: Passing (type, 1) or '1type' as a synonym of type is deprecated; in a future version of numpy, it will be understood as (type, (1,)) / '(1,)type'.\n",
      "  _np_qint16 = np.dtype([(\"qint16\", np.int16, 1)])\n",
      "/Users/dizhou/anaconda3/envs/zhihu_debug/lib/python3.7/site-packages/tensorboard/compat/tensorflow_stub/dtypes.py:544: FutureWarning: Passing (type, 1) or '1type' as a synonym of type is deprecated; in a future version of numpy, it will be understood as (type, (1,)) / '(1,)type'.\n",
      "  _np_quint16 = np.dtype([(\"quint16\", np.uint16, 1)])\n",
      "/Users/dizhou/anaconda3/envs/zhihu_debug/lib/python3.7/site-packages/tensorboard/compat/tensorflow_stub/dtypes.py:545: FutureWarning: Passing (type, 1) or '1type' as a synonym of type is deprecated; in a future version of numpy, it will be understood as (type, (1,)) / '(1,)type'.\n",
      "  _np_qint32 = np.dtype([(\"qint32\", np.int32, 1)])\n",
      "/Users/dizhou/anaconda3/envs/zhihu_debug/lib/python3.7/site-packages/tensorboard/compat/tensorflow_stub/dtypes.py:550: FutureWarning: Passing (type, 1) or '1type' as a synonym of type is deprecated; in a future version of numpy, it will be understood as (type, (1,)) / '(1,)type'.\n",
      "  np_resource = np.dtype([(\"resource\", np.ubyte, 1)])\n"
     ]
    }
   ],
   "source": [
    "import numpy as np\n",
    "import pandas as pd\n",
    "import tensorflow as tf"
   ]
  },
  {
   "cell_type": "code",
   "execution_count": null,
   "metadata": {},
   "outputs": [],
   "source": []
  },
  {
   "cell_type": "code",
   "execution_count": 19,
   "metadata": {},
   "outputs": [],
   "source": [
    "# initiate session\n",
    "sess = tf.Session()    \n",
    "sess.run(tf.global_variables_initializer())"
   ]
  },
  {
   "cell_type": "code",
   "execution_count": 27,
   "metadata": {},
   "outputs": [],
   "source": [
    "tf.Session??"
   ]
  },
  {
   "cell_type": "code",
   "execution_count": null,
   "metadata": {},
   "outputs": [],
   "source": []
  },
  {
   "cell_type": "code",
   "execution_count": 24,
   "metadata": {},
   "outputs": [
    {
     "data": {
      "text/plain": [
       "[<tf.Variable 'model/embeddings/alpha:0' shape=(5000, 100) dtype=float32_ref>,\n",
       " <tf.Variable 'model/embeddings/rho_-1:0' shape=(5000, 100) dtype=float32_ref>,\n",
       " <tf.Variable 'model/embeddings/rho_0:0' shape=(5000, 100) dtype=float32_ref>,\n",
       " <tf.Variable 'model/embeddings/rho_1:0' shape=(5000, 100) dtype=float32_ref>,\n",
       " <tf.Variable 'model/embeddings/rho_2:0' shape=(5000, 100) dtype=float32_ref>,\n",
       " <tf.Variable 'model/embeddings/rho_3:0' shape=(5000, 100) dtype=float32_ref>,\n",
       " <tf.Variable 'model/embeddings/rho_4:0' shape=(5000, 100) dtype=float32_ref>,\n",
       " <tf.Variable 'model/embeddings/rho_5:0' shape=(5000, 100) dtype=float32_ref>,\n",
       " <tf.Variable 'model/embeddings/rho_6:0' shape=(5000, 100) dtype=float32_ref>,\n",
       " <tf.Variable 'model/embeddings/rho_7:0' shape=(5000, 100) dtype=float32_ref>,\n",
       " <tf.Variable 'model/embeddings/rho_8:0' shape=(5000, 100) dtype=float32_ref>,\n",
       " <tf.Variable 'model/embeddings/rho_9:0' shape=(5000, 100) dtype=float32_ref>,\n",
       " <tf.Variable 'model/embeddings/rho_10:0' shape=(5000, 100) dtype=float32_ref>,\n",
       " <tf.Variable 'model/embeddings/rho_11:0' shape=(5000, 100) dtype=float32_ref>,\n",
       " <tf.Variable 'model/embeddings/rho_12:0' shape=(5000, 100) dtype=float32_ref>,\n",
       " <tf.Variable 'model/embeddings/rho_13:0' shape=(5000, 100) dtype=float32_ref>,\n",
       " <tf.Variable 'model/embeddings/rho_14:0' shape=(5000, 100) dtype=float32_ref>,\n",
       " <tf.Variable 'model/embeddings/rho_15:0' shape=(5000, 100) dtype=float32_ref>,\n",
       " <tf.Variable 'model/embeddings/rho_16:0' shape=(5000, 100) dtype=float32_ref>,\n",
       " <tf.Variable 'model/embeddings/rho_17:0' shape=(5000, 100) dtype=float32_ref>,\n",
       " <tf.Variable 'model/embeddings/rho_18:0' shape=(5000, 100) dtype=float32_ref>,\n",
       " <tf.Variable 'model/embeddings/rho_19:0' shape=(5000, 100) dtype=float32_ref>,\n",
       " <tf.Variable 'model/embeddings/rho_20:0' shape=(5000, 100) dtype=float32_ref>,\n",
       " <tf.Variable 'model/embeddings/rho_21:0' shape=(5000, 100) dtype=float32_ref>,\n",
       " <tf.Variable 'model/embeddings/rho_22:0' shape=(5000, 100) dtype=float32_ref>,\n",
       " <tf.Variable 'model/embeddings/rho_23:0' shape=(5000, 100) dtype=float32_ref>,\n",
       " <tf.Variable 'model/embeddings/rho_24:0' shape=(5000, 100) dtype=float32_ref>,\n",
       " <tf.Variable 'model/embeddings/rho_25:0' shape=(5000, 100) dtype=float32_ref>,\n",
       " <tf.Variable 'model/embeddings/rho_26:0' shape=(5000, 100) dtype=float32_ref>,\n",
       " <tf.Variable 'model/embeddings/rho_27:0' shape=(5000, 100) dtype=float32_ref>,\n",
       " <tf.Variable 'model/embeddings/rho_28:0' shape=(5000, 100) dtype=float32_ref>,\n",
       " <tf.Variable 'model/embeddings/rho_29:0' shape=(5000, 100) dtype=float32_ref>,\n",
       " <tf.Variable 'model/embeddings/rho_30:0' shape=(5000, 100) dtype=float32_ref>,\n",
       " <tf.Variable 'model/embeddings/rho_31:0' shape=(5000, 100) dtype=float32_ref>,\n",
       " <tf.Variable 'model/embeddings/rho_32:0' shape=(5000, 100) dtype=float32_ref>,\n",
       " <tf.Variable 'model/embeddings/rho_33:0' shape=(5000, 100) dtype=float32_ref>,\n",
       " <tf.Variable 'model/embeddings/rho_34:0' shape=(5000, 100) dtype=float32_ref>,\n",
       " <tf.Variable 'model/embeddings/rho_35:0' shape=(5000, 100) dtype=float32_ref>,\n",
       " <tf.Variable 'model/embeddings/rho_36:0' shape=(5000, 100) dtype=float32_ref>,\n",
       " <tf.Variable 'model/embeddings/rho_37:0' shape=(5000, 100) dtype=float32_ref>,\n",
       " <tf.Variable 'model/embeddings/rho_38:0' shape=(5000, 100) dtype=float32_ref>,\n",
       " <tf.Variable 'model/embeddings/rho_39:0' shape=(5000, 100) dtype=float32_ref>,\n",
       " <tf.Variable 'model/embeddings/rho_40:0' shape=(5000, 100) dtype=float32_ref>,\n",
       " <tf.Variable 'model/embeddings/rho_41:0' shape=(5000, 100) dtype=float32_ref>,\n",
       " <tf.Variable 'model/embeddings/rho_42:0' shape=(5000, 100) dtype=float32_ref>,\n",
       " <tf.Variable 'model/embeddings/rho_43:0' shape=(5000, 100) dtype=float32_ref>,\n",
       " <tf.Variable 'model/embeddings/rho_44:0' shape=(5000, 100) dtype=float32_ref>,\n",
       " <tf.Variable 'model/embeddings/rho_45:0' shape=(5000, 100) dtype=float32_ref>,\n",
       " <tf.Variable 'model/embeddings/rho_46:0' shape=(5000, 100) dtype=float32_ref>,\n",
       " <tf.Variable 'model/embeddings/rho_47:0' shape=(5000, 100) dtype=float32_ref>,\n",
       " <tf.Variable 'model/embeddings/rho_48:0' shape=(5000, 100) dtype=float32_ref>,\n",
       " <tf.Variable 'model/embeddings/rho_49:0' shape=(5000, 100) dtype=float32_ref>,\n",
       " <tf.Variable 'model/embeddings/rho_50:0' shape=(5000, 100) dtype=float32_ref>,\n",
       " <tf.Variable 'model/embeddings/rho_51:0' shape=(5000, 100) dtype=float32_ref>,\n",
       " <tf.Variable 'model/embeddings/rho_52:0' shape=(5000, 100) dtype=float32_ref>,\n",
       " <tf.Variable 'model/embeddings/rho_53:0' shape=(5000, 100) dtype=float32_ref>,\n",
       " <tf.Variable 'model/embeddings/rho_54:0' shape=(5000, 100) dtype=float32_ref>,\n",
       " <tf.Variable 'model/embeddings/rho_55:0' shape=(5000, 100) dtype=float32_ref>,\n",
       " <tf.Variable 'model/embeddings/rho_56:0' shape=(5000, 100) dtype=float32_ref>,\n",
       " <tf.Variable 'model/embeddings/rho_57:0' shape=(5000, 100) dtype=float32_ref>,\n",
       " <tf.Variable 'model/embeddings/rho_58:0' shape=(5000, 100) dtype=float32_ref>,\n",
       " <tf.Variable 'model/embeddings/rho_59:0' shape=(5000, 100) dtype=float32_ref>,\n",
       " <tf.Variable 'model/embeddings/rho_60:0' shape=(5000, 100) dtype=float32_ref>,\n",
       " <tf.Variable 'model/embeddings/rho_61:0' shape=(5000, 100) dtype=float32_ref>,\n",
       " <tf.Variable 'model/embeddings/rho_62:0' shape=(5000, 100) dtype=float32_ref>,\n",
       " <tf.Variable 'model/embeddings/rho_63:0' shape=(5000, 100) dtype=float32_ref>,\n",
       " <tf.Variable 'model/embeddings/rho_64:0' shape=(5000, 100) dtype=float32_ref>,\n",
       " <tf.Variable 'model/embeddings/rho_65:0' shape=(5000, 100) dtype=float32_ref>,\n",
       " <tf.Variable 'model/embeddings/rho_66:0' shape=(5000, 100) dtype=float32_ref>,\n",
       " <tf.Variable 'model/embeddings/rho_67:0' shape=(5000, 100) dtype=float32_ref>,\n",
       " <tf.Variable 'model/embeddings/rho_68:0' shape=(5000, 100) dtype=float32_ref>]"
      ]
     },
     "execution_count": 24,
     "metadata": {},
     "output_type": "execute_result"
    }
   ],
   "source": [
    "# Get list of trainable variables\n",
    "tf.trainable_variables()"
   ]
  },
  {
   "cell_type": "code",
   "execution_count": 21,
   "metadata": {},
   "outputs": [],
   "source": [
    "# Get value of rho_0:0\n",
    "val_rho = tf.trainable_variables('model/embeddings/rho_0:0')[0].eval(session = sess)"
   ]
  },
  {
   "cell_type": "code",
   "execution_count": 25,
   "metadata": {},
   "outputs": [
    {
     "data": {
      "text/plain": [
       "(5000, 100)"
      ]
     },
     "execution_count": 25,
     "metadata": {},
     "output_type": "execute_result"
    }
   ],
   "source": [
    "val_rho.shape"
   ]
  },
  {
   "cell_type": "code",
   "execution_count": null,
   "metadata": {},
   "outputs": [],
   "source": []
  },
  {
   "cell_type": "code",
   "execution_count": null,
   "metadata": {},
   "outputs": [],
   "source": []
  },
  {
   "cell_type": "code",
   "execution_count": null,
   "metadata": {},
   "outputs": [],
   "source": [
    "def get_word_similarities(self, words, num):\n",
    "    query_word = tf.placeholder(dtype=tf.int32)\n",
    "    #query_rho = tf.expand_dims(self.rho, [0])\n",
    "    val_rho, idx_rho = tf.nn.top_k(tf.matmul(tf.nn.l2_normalize(self.rho, dim=0), tf.nn.l2_normalize(self.alpha, dim=1), transpose_b=True), num)\n",
    "    for x in words:\n",
    "        vr, ir = self.sess.run([val_rho, idx_rho], {query_word: self.dictionary[x]})\n",
    "        print(x)\n",
    "        for ii in range(num):\n",
    "            print(self.labels[ir[0,ii]], vr[0,ii])"
   ]
  }
 ],
 "metadata": {
  "kernelspec": {
   "display_name": "Python 3",
   "language": "python",
   "name": "python3"
  },
  "language_info": {
   "codemirror_mode": {
    "name": "ipython",
    "version": 3
   },
   "file_extension": ".py",
   "mimetype": "text/x-python",
   "name": "python",
   "nbconvert_exporter": "python",
   "pygments_lexer": "ipython3",
   "version": "3.7.5"
  }
 },
 "nbformat": 4,
 "nbformat_minor": 2
}
