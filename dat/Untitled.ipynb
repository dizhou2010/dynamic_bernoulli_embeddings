{
 "cells": [
  {
   "cell_type": "code",
   "execution_count": 1,
   "metadata": {},
   "outputs": [],
   "source": [
    "import numpy as np\n",
    "\n"
   ]
  },
  {
   "cell_type": "code",
   "execution_count": 3,
   "metadata": {},
   "outputs": [
    {
     "data": {
      "text/plain": [
       "array([ 1152,  9322,   967,  5026,  1102, 10937,  5287,  3689,  6611,\n",
       "        9651,  1927, 11300, 10216,  9362,  6231,  1549,  1916,   106,\n",
       "       10946,  7654, 15564,  3518, 22496,  2603,  1916,  3337,  8192,\n",
       "       17985,  3322,   545,   866,  4415,  3060,    26,   272,  3232,\n",
       "        1941,  1941,  1231,  1665,  5169,  5016, 11637,  3232,   272,\n",
       "        1736,   509,   866,  8701,  3337,  3232, 20267,   198,  3232,\n",
       "       18082, 14837,  3116, 10587, 18082,  1357, 10968,  8492, 28278,\n",
       "       25899, 17518, 11656, 29218,  2420, 19537,   355,  7130,  1987,\n",
       "        2379,  4615,  1393,  7130,  1077,   163,  2815,   247,  2158,\n",
       "        7709,  7130,     4,  1354,   268, 29369,   142, 28792,   111,\n",
       "         697,    86,    81,  6760, 11093,  3171, 12056,    86, 26615,\n",
       "        8803,   837,  6432,   824,   187,  5024, 12056,   346,  8803,\n",
       "        7835,    61,   150,  7130,  8743,  6024,     5,  2299, 12955,\n",
       "        2983,  2792,   769], dtype=int32)"
      ]
     },
     "execution_count": 3,
     "metadata": {},
     "output_type": "execute_result"
    }
   ],
   "source": [
    "np.load('d_emb_seg/valid/201503.txt.npy')"
   ]
  }
 ],
 "metadata": {
  "kernelspec": {
   "display_name": "Python 3",
   "language": "python",
   "name": "python3"
  },
  "language_info": {
   "codemirror_mode": {
    "name": "ipython",
    "version": 3
   },
   "file_extension": ".py",
   "mimetype": "text/x-python",
   "name": "python",
   "nbconvert_exporter": "python",
   "pygments_lexer": "ipython3",
   "version": "3.7.5"
  }
 },
 "nbformat": 4,
 "nbformat_minor": 2
}
