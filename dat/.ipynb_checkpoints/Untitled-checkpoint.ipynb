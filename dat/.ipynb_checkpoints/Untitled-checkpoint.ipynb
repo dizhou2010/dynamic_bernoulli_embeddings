{
 "cells": [
  {
   "cell_type": "code",
   "execution_count": null,
   "metadata": {},
   "outputs": [],
   "source": [
    "import numpy as np"
   ]
  },
  {
   "cell_type": "code",
   "execution_count": null,
   "metadata": {},
   "outputs": [],
   "source": []
  },
  {
   "cell_type": "code",
   "execution_count": null,
   "metadata": {
    "scrolled": false
   },
   "outputs": [],
   "source": []
  },
  {
   "cell_type": "code",
   "execution_count": null,
   "metadata": {},
   "outputs": [],
   "source": []
  },
  {
   "cell_type": "code",
   "execution_count": null,
   "metadata": {},
   "outputs": [],
   "source": []
  },
  {
   "cell_type": "code",
   "execution_count": 6,
   "metadata": {},
   "outputs": [],
   "source": [
    "array = np.load('d_emb_seg/raw/201704.txt.npy')\n",
    "array2 = np.load('d_emb_seg/train/201704.txt.npy')\n",
    "array3 = np.load('d_emb_seg/test/201704.txt.npy')\n",
    "array4 = np.load('d_emb_seg/valid/201704.txt.npy')"
   ]
  },
  {
   "cell_type": "code",
   "execution_count": 7,
   "metadata": {},
   "outputs": [
    {
     "name": "stdout",
     "output_type": "stream",
     "text": [
      "(198007,) (21160,) (2645,) (2645,)\n"
     ]
    }
   ],
   "source": [
    "print(array.shape, array2.shape, array3.shape, array4.shape)"
   ]
  },
  {
   "cell_type": "code",
   "execution_count": 8,
   "metadata": {},
   "outputs": [
    {
     "data": {
      "text/plain": [
       "26450"
      ]
     },
     "execution_count": 8,
     "metadata": {},
     "output_type": "execute_result"
    }
   ],
   "source": [
    "21160 + 2645*2"
   ]
  },
  {
   "cell_type": "code",
   "execution_count": 10,
   "metadata": {},
   "outputs": [
    {
     "data": {
      "text/plain": [
       "array([ 197, 3437, 1724, ...,   11,  692,   25], dtype=int32)"
      ]
     },
     "execution_count": 10,
     "metadata": {},
     "output_type": "execute_result"
    }
   ],
   "source": [
    "array2"
   ]
  },
  {
   "cell_type": "code",
   "execution_count": null,
   "metadata": {},
   "outputs": [],
   "source": []
  },
  {
   "cell_type": "code",
   "execution_count": 1,
   "metadata": {},
   "outputs": [],
   "source": [
    "# -*- coding: utf-8 -*-\n",
    "\n",
    "import glob\n",
    "import numpy as np\n",
    "import pandas as pd\n",
    "import pickle\n",
    "import re\n"
   ]
  },
  {
   "cell_type": "code",
   "execution_count": 2,
   "metadata": {},
   "outputs": [],
   "source": [
    "\n",
    "# Change this to the name of the folder where your dataset is\n",
    "dataset_name = 'd_emb_seg'\n",
    "# Change this to the number of words you want in the vocabulary\n",
    "V = 5000\n",
    "\n",
    "files = glob.glob(dataset_name +'/raw/*.txt')\n",
    "dictionary = {}\n",
    "count = {}\n",
    "N = len(files)"
   ]
  },
  {
   "cell_type": "code",
   "execution_count": 3,
   "metadata": {},
   "outputs": [],
   "source": [
    "for f_number, fn in enumerate(files):\n",
    "    #print(str(f_number)+\" out of \"+str(N))\n",
    "    with open(fn, 'r') as myfile:\n",
    "        words = myfile.read().replace('\\n', ' ').split(' ')\n",
    "    data = np.zeros(len(words))\n",
    "    for idx, word in enumerate(words):\n",
    "        if word not in dictionary:\n",
    "            count[len(dictionary)] = 1\n",
    "            dictionary[word] = len(dictionary)\n",
    "        data[idx] = dictionary[word]\n",
    "        count[data[idx]] += 1\n",
    "    np.save(fn.replace('.txt2','.npy'), data.astype('int32'))"
   ]
  },
  {
   "cell_type": "code",
   "execution_count": 4,
   "metadata": {},
   "outputs": [],
   "source": [
    "\n",
    "#pickle.dump( dictionary, open( 'raw/dict.pkl', \"a+\" ) )\n",
    "#pickle.dump( count, open( 'raw/counts.pkl', \"a+\" ) )\n",
    "\n",
    "df = pd.DataFrame.from_dict(dictionary, orient='index')\n",
    "cf = pd.DataFrame.from_dict(count, orient='index')\n",
    "df.columns = ['idx']\n",
    "cf.columns = ['cnt']\n",
    "uni = df.join(cf, on = 'idx')\n",
    "\n",
    "unig = uni.sort_values(by='cnt', ascending = False).reset_index().reset_index()\n",
    "\n",
    "unig.columns = ['new_idx', 'word', 'old_idx', 'cnt']\n",
    "\n",
    "old_idx = unig.old_idx.values"
   ]
  },
  {
   "cell_type": "code",
   "execution_count": 20,
   "metadata": {},
   "outputs": [
    {
     "data": {
      "text/html": [
       "<div>\n",
       "<style scoped>\n",
       "    .dataframe tbody tr th:only-of-type {\n",
       "        vertical-align: middle;\n",
       "    }\n",
       "\n",
       "    .dataframe tbody tr th {\n",
       "        vertical-align: top;\n",
       "    }\n",
       "\n",
       "    .dataframe thead th {\n",
       "        text-align: right;\n",
       "    }\n",
       "</style>\n",
       "<table border=\"1\" class=\"dataframe\">\n",
       "  <thead>\n",
       "    <tr style=\"text-align: right;\">\n",
       "      <th></th>\n",
       "      <th>new_idx</th>\n",
       "      <th>word</th>\n",
       "      <th>old_idx</th>\n",
       "      <th>cnt</th>\n",
       "    </tr>\n",
       "  </thead>\n",
       "  <tbody>\n",
       "    <tr>\n",
       "      <th>0</th>\n",
       "      <td>0</td>\n",
       "      <td>的</td>\n",
       "      <td>21</td>\n",
       "      <td>1673239</td>\n",
       "    </tr>\n",
       "    <tr>\n",
       "      <th>1</th>\n",
       "      <td>1</td>\n",
       "      <td>是</td>\n",
       "      <td>27</td>\n",
       "      <td>490105</td>\n",
       "    </tr>\n",
       "    <tr>\n",
       "      <th>2</th>\n",
       "      <td>2</td>\n",
       "      <td>了</td>\n",
       "      <td>6</td>\n",
       "      <td>452531</td>\n",
       "    </tr>\n",
       "    <tr>\n",
       "      <th>3</th>\n",
       "      <td>3</td>\n",
       "      <td>在</td>\n",
       "      <td>23</td>\n",
       "      <td>283107</td>\n",
       "    </tr>\n",
       "    <tr>\n",
       "      <th>4</th>\n",
       "      <td>4</td>\n",
       "      <td>美国</td>\n",
       "      <td>18</td>\n",
       "      <td>282248</td>\n",
       "    </tr>\n",
       "    <tr>\n",
       "      <th>...</th>\n",
       "      <td>...</td>\n",
       "      <td>...</td>\n",
       "      <td>...</td>\n",
       "      <td>...</td>\n",
       "    </tr>\n",
       "    <tr>\n",
       "      <th>269305</th>\n",
       "      <td>269305</td>\n",
       "      <td>人不亲</td>\n",
       "      <td>70244</td>\n",
       "      <td>2</td>\n",
       "    </tr>\n",
       "    <tr>\n",
       "      <th>269306</th>\n",
       "      <td>269306</td>\n",
       "      <td>科体</td>\n",
       "      <td>179727</td>\n",
       "      <td>2</td>\n",
       "    </tr>\n",
       "    <tr>\n",
       "      <th>269307</th>\n",
       "      <td>269307</td>\n",
       "      <td>教演</td>\n",
       "      <td>179726</td>\n",
       "      <td>2</td>\n",
       "    </tr>\n",
       "    <tr>\n",
       "      <th>269308</th>\n",
       "      <td>269308</td>\n",
       "      <td>如山如海</td>\n",
       "      <td>70251</td>\n",
       "      <td>2</td>\n",
       "    </tr>\n",
       "    <tr>\n",
       "      <th>269309</th>\n",
       "      <td>269309</td>\n",
       "      <td>kennethp</td>\n",
       "      <td>269309</td>\n",
       "      <td>2</td>\n",
       "    </tr>\n",
       "  </tbody>\n",
       "</table>\n",
       "<p>269310 rows × 4 columns</p>\n",
       "</div>"
      ],
      "text/plain": [
       "        new_idx      word  old_idx      cnt\n",
       "0             0         的       21  1673239\n",
       "1             1         是       27   490105\n",
       "2             2         了        6   452531\n",
       "3             3         在       23   283107\n",
       "4             4        美国       18   282248\n",
       "...         ...       ...      ...      ...\n",
       "269305   269305       人不亲    70244        2\n",
       "269306   269306        科体   179727        2\n",
       "269307   269307        教演   179726        2\n",
       "269308   269308      如山如海    70251        2\n",
       "269309   269309  kennethp   269309        2\n",
       "\n",
       "[269310 rows x 4 columns]"
      ]
     },
     "execution_count": 20,
     "metadata": {},
     "output_type": "execute_result"
    }
   ],
   "source": [
    "unig"
   ]
  },
  {
   "cell_type": "code",
   "execution_count": null,
   "metadata": {},
   "outputs": [],
   "source": [
    "files = glob.glob(dataset_name +'/raw/*.npy')\n",
    "for f_number, fname in enumerate(files):\n",
    "    print(str(f_number)+\" out of \"+ str(N))\n",
    "    dat = np.load(fname)\n",
    "    new_dat = np.zeros_like(dat) + 2*V\n",
    "    \n",
    "    for ni, oi in enumerate(old_idx[:V]):\n",
    "        new_dat[dat == oi] = ni\n",
    "    new_dat = new_dat[new_dat < V].astype('int32')\n",
    "    new_fname = fname.replace('raw/','train/')\n",
    "    np.save(new_fname, new_dat)\n",
    "\n",
    "unig.head(V).to_csv(dataset_name + '/unigram.txt',header=False, index = False, sep = '\\t', columns = ['word', 'new_idx', 'cnt'])\n"
   ]
  },
  {
   "cell_type": "code",
   "execution_count": 12,
   "metadata": {},
   "outputs": [],
   "source": [
    "dat = np.load('d_emb_seg/raw/201704.txt.npy') # dat is an index array\n",
    "new_dat = np.zeros_like(dat) + 2*V"
   ]
  },
  {
   "cell_type": "code",
   "execution_count": 17,
   "metadata": {},
   "outputs": [
    {
     "data": {
      "text/plain": [
       "array([  160,   400,  1332, ..., 80829,     6, 15823], dtype=int32)"
      ]
     },
     "execution_count": 17,
     "metadata": {},
     "output_type": "execute_result"
    }
   ],
   "source": [
    "dat"
   ]
  },
  {
   "cell_type": "code",
   "execution_count": 16,
   "metadata": {},
   "outputs": [
    {
     "data": {
      "text/plain": [
       "array([10000, 10000, 10000, ..., 10000, 10000, 10000], dtype=int32)"
      ]
     },
     "execution_count": 16,
     "metadata": {},
     "output_type": "execute_result"
    }
   ],
   "source": [
    "new_dat"
   ]
  },
  {
   "cell_type": "code",
   "execution_count": 19,
   "metadata": {
    "scrolled": false
   },
   "outputs": [
    {
     "data": {
      "text/plain": [
       "array([    21,     27,      6, ..., 179726,  70251, 269309])"
      ]
     },
     "execution_count": 19,
     "metadata": {},
     "output_type": "execute_result"
    }
   ],
   "source": [
    "old_idx"
   ]
  },
  {
   "cell_type": "code",
   "execution_count": 25,
   "metadata": {},
   "outputs": [
    {
     "data": {
      "text/plain": [
       "array([  160,   400,  1332, ..., 80829,     6, 15823], dtype=int32)"
      ]
     },
     "execution_count": 25,
     "metadata": {},
     "output_type": "execute_result"
    }
   ],
   "source": [
    "dat"
   ]
  },
  {
   "cell_type": "code",
   "execution_count": 24,
   "metadata": {},
   "outputs": [
    {
     "data": {
      "text/plain": [
       "array([False, False, False, ..., False,  True, False])"
      ]
     },
     "execution_count": 24,
     "metadata": {},
     "output_type": "execute_result"
    }
   ],
   "source": [
    "dat == 6"
   ]
  },
  {
   "cell_type": "code",
   "execution_count": 26,
   "metadata": {},
   "outputs": [],
   "source": [
    "new_dat[dat == 6] = 2"
   ]
  },
  {
   "cell_type": "code",
   "execution_count": 27,
   "metadata": {},
   "outputs": [
    {
     "data": {
      "text/plain": [
       "array([10000, 10000, 10000, ..., 10000,     2, 10000], dtype=int32)"
      ]
     },
     "execution_count": 27,
     "metadata": {},
     "output_type": "execute_result"
    }
   ],
   "source": [
    "new_dat"
   ]
  },
  {
   "cell_type": "code",
   "execution_count": 28,
   "metadata": {},
   "outputs": [],
   "source": [
    "# replace old index with new index\n",
    "for ni, oi in enumerate(old_idx[:V]):\n",
    "    new_dat[dat == oi] = ni"
   ]
  },
  {
   "cell_type": "code",
   "execution_count": 29,
   "metadata": {},
   "outputs": [
    {
     "data": {
      "text/plain": [
       "array([   50,   160,   132, ..., 10000,     2,  1038], dtype=int32)"
      ]
     },
     "execution_count": 29,
     "metadata": {},
     "output_type": "execute_result"
    }
   ],
   "source": [
    "new_dat"
   ]
  },
  {
   "cell_type": "code",
   "execution_count": null,
   "metadata": {},
   "outputs": [],
   "source": [
    "new_dat = new_dat[new_dat < V].astype('int32') # remove words have a new index larger than capped number\n",
    "new_fname = fname.replace('raw/','train/')"
   ]
  }
 ],
 "metadata": {
  "kernelspec": {
   "display_name": "Python 3",
   "language": "python",
   "name": "python3"
  },
  "language_info": {
   "codemirror_mode": {
    "name": "ipython",
    "version": 3
   },
   "file_extension": ".py",
   "mimetype": "text/x-python",
   "name": "python",
   "nbconvert_exporter": "python",
   "pygments_lexer": "ipython3",
   "version": "3.7.5"
  }
 },
 "nbformat": 4,
 "nbformat_minor": 2
}
